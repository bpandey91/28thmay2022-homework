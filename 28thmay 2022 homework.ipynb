{
 "cells": [
  {
   "cell_type": "code",
   "execution_count": 1,
   "id": "2dda1f6d",
   "metadata": {},
   "outputs": [
    {
     "name": "stdout",
     "output_type": "stream",
     "text": [
      "sudh \n",
      "sudh sudh \n",
      "sudh sudh sudh \n",
      "sudh sudh sudh sudh \n",
      "sudh sudh sudh sudh sudh \n"
     ]
    }
   ],
   "source": [
    "# question number 1\n",
    "for i in range(5):\n",
    "    for j in range(0,i+1):\n",
    "        print('sudh',end=\" \")\n",
    "    print('')"
   ]
  },
  {
   "cell_type": "code",
   "execution_count": 2,
   "id": "55312e47",
   "metadata": {},
   "outputs": [
    {
     "name": "stdout",
     "output_type": "stream",
     "text": [
      "          ineuran   \n",
      "     ineuran   ineuran   \n",
      "ineuran   ineuran   ineuran   \n",
      "     ineuran   ineuran   \n",
      "          ineuran   \n"
     ]
    }
   ],
   "source": [
    "# question number 2\n",
    "n=3\n",
    "for i in range(n):\n",
    "    for j in range(n-i-1):\n",
    "        print(\"  \",end=\"   \")\n",
    "    for j in range(i+1):\n",
    "        print(\"ineuran\",end=\"   \")\n",
    "    print(\"\")\n",
    "for i in range(n-1):\n",
    "    for j in range(i+1):\n",
    "        print(\"  \",end=\"   \")\n",
    "    for j in range(n-1-i):\n",
    "        print(\"ineuran\",end=\"   \")\n",
    "    print(\"\")"
   ]
  },
  {
   "cell_type": "code",
   "execution_count": 3,
   "id": "164edd5b",
   "metadata": {},
   "outputs": [
    {
     "name": "stdout",
     "output_type": "stream",
     "text": [
      "[1, 2, 3, 4]\n",
      "['ineuran', 'data science']\n"
     ]
    }
   ],
   "source": [
    "# Q3. try to extraxt all the list entity\n",
    "l =[[1,2,3,4],(2,3,4,5,6),(3,4,5,6,7),set([23,4,5,45,4,4,5,]),{'ki':\"sudh\",'k2':\"ineuran\",\"k3\":\"kumar\",3:6,7:8},[\"ineuran\",\"data science\"]]\n",
    "l1=[]\n",
    "for i in range(len(l)):\n",
    "    if type(l[i])==list:\n",
    "        l1.append(l[i])\n",
    "for j in l1:\n",
    "    print(j)"
   ]
  },
  {
   "cell_type": "code",
   "execution_count": 4,
   "id": "abf66803",
   "metadata": {},
   "outputs": [
    {
     "name": "stdout",
     "output_type": "stream",
     "text": [
      "{'ki': 'sudh', 'k2': 'ineuran', 'k3': 'kumar', 3: 6, 7: 8}\n"
     ]
    }
   ],
   "source": [
    "#Q4 try to extract allt he dict entity.\n",
    "l =[[1,2,3,4],(2,3,4,5,6),(3,4,5,6,7),set([23,4,5,45,4,4,5,]),{'ki':\"sudh\",'k2':\"ineuran\",\"k3\":\"kumar\",3:6,7:8},[\"ineuran\",\"data science\"]]\n",
    "l1=[]\n",
    "for i in range(len(l)):\n",
    "    if type(l[i])==dict:\n",
    "        l1.append(l[i])\n",
    "for j in l1:\n",
    "    print(j)"
   ]
  },
  {
   "cell_type": "code",
   "execution_count": 5,
   "id": "78aea911",
   "metadata": {},
   "outputs": [
    {
     "name": "stdout",
     "output_type": "stream",
     "text": [
      "[1, 2, 3, 4, 2, 3, 4, 5, 6, 3, 4, 5, 6, 7, 45, 4, 5, 23, 3, 7]\n"
     ]
    }
   ],
   "source": [
    "#Q6 try to extract all the numerical data it may be a part of dict key and values\n",
    "l =[[1,2,3,4],(2,3,4,5,6),(3,4,5,6,7),set([23,4,5,45,4,4,5,]),{'k1':\"sudh\",'k2':\"ineuran\",\"k3\":\"kumar\",3:6,7:8},[\"ineuran\",\"data science\"]]\n",
    "l1=[]\n",
    "for i in range(len(l)):\n",
    "        for j in l[i]:\n",
    "            if type(j)==int:\n",
    "                l1.append(j)\n",
    "print(l1)\n",
    "        "
   ]
  },
  {
   "cell_type": "code",
   "execution_count": null,
   "id": "14d578a3",
   "metadata": {},
   "outputs": [],
   "source": []
  },
  {
   "cell_type": "code",
   "execution_count": null,
   "id": "457cc8a1",
   "metadata": {},
   "outputs": [],
   "source": []
  }
 ],
 "metadata": {
  "kernelspec": {
   "display_name": "Python 3 (ipykernel)",
   "language": "python",
   "name": "python3"
  },
  "language_info": {
   "codemirror_mode": {
    "name": "ipython",
    "version": 3
   },
   "file_extension": ".py",
   "mimetype": "text/x-python",
   "name": "python",
   "nbconvert_exporter": "python",
   "pygments_lexer": "ipython3",
   "version": "3.9.7"
  }
 },
 "nbformat": 4,
 "nbformat_minor": 5
}
